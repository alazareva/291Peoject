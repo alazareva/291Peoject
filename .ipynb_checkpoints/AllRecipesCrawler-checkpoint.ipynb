{
 "cells": [
  {
   "cell_type": "code",
   "execution_count": 66,
   "metadata": {
    "collapsed": true
   },
   "outputs": [],
   "source": [
    "from pattern.web import URL, DOM, plaintext, Element, extension, Crawler, DEPTH\n",
    "import re\n",
    "import pickle\n",
    "import random\n",
    "import PIL\n",
    "from PIL import Image"
   ]
  },
  {
   "cell_type": "code",
   "execution_count": null,
   "metadata": {
    "collapsed": true
   },
   "outputs": [],
   "source": [
    "    img = Image.open(‘fullsized_image.jpg’)\n",
    " ",
    "wpercent = (basewidth / float(img.size[0]))\n",
    " ",
    "hsize = int((float(img.size[1]) * float(wpercent)))\n",
    " ",
    "img = img.resize((basewidth, hsize), PIL.Image.ANTIALIAS)\n",
    " ",
    "img.save(‘resized_image.jpg’)"
   ]
  },
  {
   "cell_type": "code",
   "execution_count": 5,
   "metadata": {
    "collapsed": false
   },
   "outputs": [],
   "source": [
    "class Scraper():\n",
    "    def save_image(self):\n",
    "        pass\n",
    "    def get_recipe(self):\n",
    "        pass"
   ]
  },
  {
   "cell_type": "code",
   "execution_count": 73,
   "metadata": {
    "collapsed": true
   },
   "outputs": [],
   "source": [
    "testScraper = AllRecipesScraper()"
   ]
  },
  {
   "cell_type": "code",
   "execution_count": 75,
   "metadata": {
    "collapsed": true
   },
   "outputs": [],
   "source": [
    "class AllRecipesScraper(Scraper):\n",
    "    def save_image(self,element,idx,basewidth = 300):\n",
    "        first_rec_photo = element.by_class(\"rec-photo\")[0]\n",
    "        url = first_rec_photo.attributes.get('src','')\n",
    "        print(\"Image URL\", url)\n",
    "        img_url = URL(url)\n",
    "        #img = open(\"img/\"+str(idx) + extension(img_url.page), 'wb')\n",
    "        img = Image.open(img_url)\n",
    "        #img.write(img_url.download())\n",
    "        wpercent = (basewidth / float(img.size[0]))\n",
    "        hsize = int((float(img.size[1]) * float(wpercent)))\n",
    "        img = img.resize((basewidth, hsize), PIL.Image.ANTIALIAS)\n",
    "        #img.close()\n",
    "        img.save(\"img/\"+str(idx) + extension(img_url.page))\n",
    "        \n",
    "    def get_ingredients(self,element):\n",
    "        ing_nodes = element.by_class(\"recipe-ingred_txt added\")\n",
    "        return \"\\n\".join([plaintext(a.content) for a in ing_nodes \n",
    "                          if \"Add all ingredients to list\" not in plaintext(a.content)])\n",
    "\n",
    "    \n",
    "    def get_instructions(self,element):\n",
    "        instr_nodes = element.by_class(\"recipe-directions__list--item\")\n",
    "        return \"\\n\".join([plaintext(a.content) for a in instr_nodes])\n",
    "    \n",
    "    def get_recipe(self,element):\n",
    "        return self.get_ingredients(element)+\"\\n\"+self.get_instructions(element)\n",
    "        "
   ]
  },
  {
   "cell_type": "code",
   "execution_count": 87,
   "metadata": {
    "collapsed": false
   },
   "outputs": [],
   "source": [
    "class AllRecipesCrawler(Crawler):\n",
    "    def __init__(self,links, delay,recipe_list = None):\n",
    "        super( AllRecipesCrawler, self ).__init__(links=links, delay=delay)\n",
    "        self.scraper = AllRecipesScraper()\n",
    "        if recipe_list is None:\n",
    "            self.recipe_list = {}\n",
    "        else:\n",
    "            self.recipe_list = recipe_list\n",
    "        self.count = 0\n",
    "        \n",
    "        \n",
    "    def reset_count(self):\n",
    "        self.count = 0\n",
    "        \n",
    "    def follow(self, link):\n",
    "        print(\"following\", str(link.url))\n",
    "        if \"recipes/\" in str(link.url):\n",
    "            yield True\n",
    "        else:\n",
    "            yield False\n",
    "            \n",
    "    def visit(self, link, source=None):\n",
    "        if \"recipe/\" in str(link.url):\n",
    "            print(\"visiting\", str(link.url))\n",
    "            rec_id = re.search(\".*recipe/(.*)(/.*/)+\", str(link.url)).group(1)\n",
    "            if rec_id not in self.recipe_list.keys():\n",
    "                self.scrape(source, rec_id)\n",
    "            else:\n",
    "                print(\"already scraped\",rec_id)\n",
    "            \n",
    "    def scrape(self,source,rec_id):\n",
    "        print(\"scraping\", rec_id)\n",
    "        element = Element(source)\n",
    "        try:\n",
    "            recipe = self.scraper.get_recipe(element)\n",
    "            self.scraper.save_image(element, rec_id)\n",
    "            self.recipe_list[rec_id]=recipe\n",
    "            self.count += 1\n",
    "        except Exception as detail:\n",
    "            print 'Handling run-time error:', detail\n",
    "            \n",
    "    \n"
   ]
  },
  {
   "cell_type": "code",
   "execution_count": 88,
   "metadata": {
    "collapsed": false
   },
   "outputs": [
    {
     "name": "stdout",
     "output_type": "stream",
     "text": [
      "('visiting', 'http://allrecipes.com/recipe/10780/passover-pesach-brownies/')\n",
      "('scraping', '10780')\n",
      "('Image URL', u'http://images.media-allrecipes.com/userphotos/720x405/1121077.jpg')\n",
      "('visiting', 'http://allrecipes.com/recipe/246780/spicy-harissa-chicken-kebabs/')\n",
      "('scraping', '246780')\n",
      "('Image URL', u'http://images.media-allrecipes.com/userphotos/720x405/3494378.jpg')\n",
      "4 tablespoons mild harissa paste or sauce\n",
      "2 tablespoons honey\n",
      "1/2 lemon, juiced\n",
      "4 boneless, skinless chicken breasts, cut into 1-inch cubes\n",
      "2 yellow squash, thickly sliced\n",
      "2 green zucchini, thickly sliced\n",
      "1 red onion, thickly sliced\n",
      "2 cups thickly sliced button mushrooms\n",
      "3 tablespoons olive oil\n",
      "1 tablespoon ground cumin\n",
      "1/2 teaspoon salt and pepper\n",
      "Reynolds Wrap® Aluminum Foil\n",
      "Preheat the oven to 425 degrees F.\n",
      "Whisk together the harissa, honey and lemon juice in a bowl. Add chicken and mix until coated.\n",
      "Skewer the chicken evenly among 8 wooden skewers and set aside.\n",
      "Mix together the squash, zucchini, onion, mushrooms, olive oil, cumin and salt and pepper until completely combined.\n",
      "Place a 1 1/2 to 2 feet long sheet of Reynolds Wrap(R) Aluminum Foil on a table and place 1/4 of the vegetables in the center of the foil. Place 2 chicken skewers on top of the vegetables. Fold up the ends and then the outside of the foil to create a foil packet.\n",
      "Repeat the process 3 more times and place the foil packets on a cookie sheet.\n",
      "Bake in the oven at 425 degrees F for 20 minutes and then open the foil packets and cook for a further 15 minutes or until the chicken is lightly browned and cooked throughout.\n",
      "Optional Serving: Serve the individual foil packets alongside warm pita.\n",
      "\n",
      "5 eggs\n",
      "2 1/2 cups white sugar\n",
      "1 1/4 cups vegetable oil\n",
      "1 1/4 cups matzo cake meal\n",
      "1 1/2 cups unsweetened cocoa powder\n",
      "1 1/4 cups chopped walnuts\n",
      "Beat eggs and sugar. Add oil. Mix in cake meal and cocoa. Add nuts (or use the nuts as a topping).\n",
      "Bake in a greased 9 x 13 inch pan at 325 degrees F (165 degrees C) for 35 minutes. The secret to moist brownies, Pesach or otherwise, is to underbake them. Check them at 30 minutes. I also put nuts on top rather than in the brownies for two reasons: They make the top look good without having to frost them and, for those who don 't or can't eat nuts, they are easily removed without having to search for them.\n",
      "\n"
     ]
    }
   ],
   "source": [
    "base_url = \"http://allrecipes.com/\"\n",
    "limit = 2\n",
    "crawler = AllRecipesCrawler(links=[base_url], delay=1)\n",
    "while (not crawler.done) and crawler.count < limit:\n",
    "    crawler.crawl(method=DEPTH, cached=False)\n",
    "\n",
    "for key, value in crawler.recipe_list.iteritems():\n",
    "    print value"
   ]
  },
  {
   "cell_type": "code",
   "execution_count": 78,
   "metadata": {
    "collapsed": true
   },
   "outputs": [],
   "source": [
    "pickle.dump( crawler.recipe_list, open( \"recipe_list.p\", \"wb\" ) ) "
   ]
  },
  {
   "cell_type": "code",
   "execution_count": 83,
   "metadata": {
    "collapsed": true
   },
   "outputs": [],
   "source": [
    "recipe_list = pickle.load( open( \"recipe_list.p\", \"rb\" ) )"
   ]
  },
  {
   "cell_type": "code",
   "execution_count": 90,
   "metadata": {
    "collapsed": false
   },
   "outputs": [
    {
     "name": "stdout",
     "output_type": "stream",
     "text": [
      "('visiting', 'http://allrecipes.com/recipe/10780/passover-pesach-brownies/')\n",
      "('already scraped', '10780')\n",
      "('visiting', 'http://allrecipes.com/recipe/246780/spicy-harissa-chicken-kebabs/')\n",
      "('already scraped', '246780')\n",
      "('visiting', 'http://allrecipes.com/recipe/246305/chicken-cacciatore-in-a-slow-cooker/')\n",
      "('scraping', '246305')\n",
      "('Image URL', u'http://images.media-allrecipes.com/userphotos/720x405/3375232.jpg')\n",
      "('visiting', 'http://allrecipes.com/recipe/246158/healthy-cauliflower-and-edamame-salad/')\n",
      "('scraping', '246158')\n",
      "('Image URL', u'http://images.media-allrecipes.com/userphotos/720x405/3352743.jpg')\n",
      "4 skinless, boneless chicken breast halves\n",
      "1 (28 ounce) jar spaghetti sauce (such as Classico® Cabernet Marinara with Herbs)\n",
      "1 (6 ounce) can tomato paste\n",
      "1/4 pound sliced fresh mushrooms\n",
      "1/2 yellow onion, minced\n",
      "1/2 green bell pepper, seeded and diced\n",
      "3 tablespoons minced garlic\n",
      "1 1/2 teaspoons dried oregano\n",
      "1/2 teaspoon dried basil\n",
      "1/2 teaspoon ground black pepper\n",
      "1/4 teaspoon red pepper flakes (optional)\n",
      "Place chicken in a slow cooker; stir in spaghetti sauce, tomato paste, mushrooms, onion, bell pepper, garlic, oregano, basil, black pepper, and red pepper flakes. Cover.\n",
      "Cook on Low until chicken is tender, 6 to 8 hours.\n",
      "\n",
      "4 tablespoons mild harissa paste or sauce\n",
      "2 tablespoons honey\n",
      "1/2 lemon, juiced\n",
      "4 boneless, skinless chicken breasts, cut into 1-inch cubes\n",
      "2 yellow squash, thickly sliced\n",
      "2 green zucchini, thickly sliced\n",
      "1 red onion, thickly sliced\n",
      "2 cups thickly sliced button mushrooms\n",
      "3 tablespoons olive oil\n",
      "1 tablespoon ground cumin\n",
      "1/2 teaspoon salt and pepper\n",
      "Reynolds Wrap® Aluminum Foil\n",
      "Preheat the oven to 425 degrees F.\n",
      "Whisk together the harissa, honey and lemon juice in a bowl. Add chicken and mix until coated.\n",
      "Skewer the chicken evenly among 8 wooden skewers and set aside.\n",
      "Mix together the squash, zucchini, onion, mushrooms, olive oil, cumin and salt and pepper until completely combined.\n",
      "Place a 1 1/2 to 2 feet long sheet of Reynolds Wrap(R) Aluminum Foil on a table and place 1/4 of the vegetables in the center of the foil. Place 2 chicken skewers on top of the vegetables. Fold up the ends and then the outside of the foil to create a foil packet.\n",
      "Repeat the process 3 more times and place the foil packets on a cookie sheet.\n",
      "Bake in the oven at 425 degrees F for 20 minutes and then open the foil packets and cook for a further 15 minutes or until the chicken is lightly browned and cooked throughout.\n",
      "Optional Serving: Serve the individual foil packets alongside warm pita.\n",
      "\n",
      "5 eggs\n",
      "2 1/2 cups white sugar\n",
      "1 1/4 cups vegetable oil\n",
      "1 1/4 cups matzo cake meal\n",
      "1 1/2 cups unsweetened cocoa powder\n",
      "1 1/4 cups chopped walnuts\n",
      "Beat eggs and sugar. Add oil. Mix in cake meal and cocoa. Add nuts (or use the nuts as a topping).\n",
      "Bake in a greased 9 x 13 inch pan at 325 degrees F (165 degrees C) for 35 minutes. The secret to moist brownies, Pesach or otherwise, is to underbake them. Check them at 30 minutes. I also put nuts on top rather than in the brownies for two reasons: They make the top look good without having to frost them and, for those who don 't or can't eat nuts, they are easily removed without having to search for them.\n",
      "\n",
      "1 head cauliflower, cut into bite-size pieces\n",
      "1/2 (12 ounce) package frozen shelled edamame (green soybeans)\n",
      "4 hard-cooked eggs, chopped\n",
      "3 ribs celery, chopped, or to taste\n",
      "1 large bell pepper, chopped, or to taste\n",
      "1 (5.3 ounce) container plain Greek yogurt\n",
      "1 bunch radishes, sliced, or to taste\n",
      "4 green onions, chopped, or to taste\n",
      "3 tablespoons mayonnaise\n",
      "1 tablespoon Dijon mustard (such as Grey Poupon®)\n",
      "2 kosher dill pickles, chopped\n",
      "1 tablespoon olive oil\n",
      "1 clove garlic, minced\n",
      "1 sprig fresh dill, chopped\n",
      "salt and ground black pepper to taste\n",
      "Place cauliflower and 1/2 cup water in a microwave-safe bowl. Cook in the microwave until tender, 2 to 3 minutes; drain. Place edamame in a microwave-safe bowl; cook in the microwave until tender, 1 to 2 minutes.\n",
      "Combine cauliflower, edamame, eggs, celery, bell pepper, yogurt, radishes, green onions, mayonnaise, mustard, pickles, olive oil, garlic, dill, salt, and black pepper together in a bowl; toss to distribute.\n",
      "\n"
     ]
    }
   ],
   "source": [
    "crawler = AllRecipesCrawler(links=[base_url], delay=1,recipe_list = recipe_list )\n",
    "while (not crawler.done) and crawler.count < limit:\n",
    "    crawler.crawl(method=DEPTH, cached=False)\n",
    "\n",
    "for key, value in crawler.recipe_list.iteritems():\n",
    "    print value"
   ]
  },
  {
   "cell_type": "code",
   "execution_count": 45,
   "metadata": {
    "collapsed": false
   },
   "outputs": [
    {
     "name": "stdout",
     "output_type": "stream",
     "text": [
      "('visiting', 'http://allrecipes.com/recipe/222744/dandelion-greens-with-a-kick/')\n",
      "('rec_id', '222744')\n",
      "('scraping', '222744')\n",
      "('Image URL', u'http://images.media-allrecipes.com/userphotos/250x250/838595.jpg')\n",
      "('visiting', 'http://allrecipes.com/recipe/221936/quick-fish-tacos/')\n",
      "('rec_id', '221936')\n",
      "('scraping', '221936')\n",
      "('Image URL', u'http://images.media-allrecipes.com/userphotos/720x405/1017268.jpg')\n",
      "Sauce:\n",
      "2 (15 ounce) cans tomato sauce\n",
      "1 cup water\n",
      "1/2 cup chipotle peppers in adobo sauce\n",
      "3 tablespoons chili powder\n",
      "1 teaspoon dried oregano\n",
      "1 teaspoon sea salt\n",
      "Wraps:\n",
      "2 tablespoons extra-virgin olive oil\n",
      "2 small onions, finely chopped\n",
      "2 green bell peppers, finely chopped\n",
      "1 pinch salt\n",
      "1 1/2 pounds ground beef\n",
      "4 cloves garlic, minced\n",
      "2 (15 ounce) cans kidney beans, rinsed and drained\n",
      "1 (15 ounce) can black beans, rinsed and drained\n",
      "16 romaine lettuce leaves\n",
      "Add all ingredients to list\n",
      "Add all ingredients to list\n",
      "Blend tomato sauce, water, chipotle peppers in adobo sauce, chili powder, oregano, and 1 teaspoon sea salt together in a blender until sauce is smooth.\n",
      "Heat olive oil in a large Dutch oven or heavy pot over medium heat; cook and stir onions, green bell peppers, and a pinch salt until softened, 5 to 10 minutes. Add ground beef and increase heat to medium-high; cook and stir until beef is browned and crumbly, 5 to 10 minutes. Drain excess grease.\n",
      "Mix garlic and sauce into ground beef mixture; cook and stir until heated through, 2 to 3 minutes. Stir kidney beans and black beans into into ground beef sauce and simmer, stirring occasionally, until filling flavors have blended, about 20 minutes.\n",
      "Spoon filling into lettuce leaves.\n",
      "\n",
      "4 cups strawberries, sliced\n",
      "1 cup white sugar\n",
      "8 cups cold water\n",
      "1 lime, cut into 8 wedges (optional)\n",
      "8 fresh mint sprigs (optional)\n",
      "Add all ingredients to list\n",
      "Add all ingredients to list\n",
      "In a medium bowl, mix together sliced strawberries, sugar, and 1 cup of water. Cover the bowl with plastic wrap and place in the refrigerator for 4 hours.\n",
      "Remove the strawberry mixture from the refrigerator and pour into a blender. Blend on high until smooth. Pour the blended berry mixture through a wire mesh strainer set over a large mixing bowl; discard the pulp and seeds.\n",
      "Add the remaining 7 cups cold water to the pureed strawberries and mix well. Place the Aqua de Fresa in the refrigerator to chill for several hours or pour over ice and serve immediately. Garnish with lime slices or mint leaves.\n",
      "\n",
      "1 teaspoon salt\n",
      "1 pound dandelion greens, torn into 4-inch pieces\n",
      "1 teaspoon salt\n",
      "2 tablespoons olive oil\n",
      "1 tablespoon butter\n",
      "1/2 onion, thinly sliced\n",
      "1/4 teaspoon red pepper flakes\n",
      "2 cloves garlic, minced\n",
      "salt and ground black pepper to taste\n",
      "1 tablespoon grated Parmesan cheese (optional)\n",
      "Add all ingredients to list\n",
      "Add all ingredients to list\n",
      "Soak dandelion greens in a large bowl of cold water with 1 teaspoon salt for 10 minutes. Drain.\n",
      "Bring a large pot of water to a boil with 1 teaspoon salt. Cook greens until tender, 3 to 4 minutes. Drain and rinse with cold water until chilled.\n",
      "Heat olive oil and butter in a large skillet over medium heat; cook and stir onion and red pepper flakes until onion is tender, about 5 minutes. Stir in garlic until garlic is fragrant, about 30 seconds more. Increase heat to medium-high and add dandelion greens. Continue to cook and stir until liquid is evaporated, 3 to 4 minutes. Season with salt and black pepper.\n",
      "Sprinkle greens with Parmesan cheese to serve.\n",
      "\n",
      "1/4 cup reduced-fat sour cream\n",
      "2 tablespoons lime juice\n",
      "salt and ground black pepper to taste\n",
      "1 jalapeno pepper, halved lengthwise\n",
      "2 1/2 cups shredded red cabbage\n",
      "4 green onions, thinly sliced\n",
      "2 tablespoons olive oil\n",
      "1 pound tilapia fillets, cut into strips\n",
      "8 (6 inch) flour tortillas\n",
      "1/2 cup chopped fresh cilantro\n",
      "Add all ingredients to list\n",
      "Add all ingredients to list\n",
      "Mix sour cream and lime juice together in a large bowl; season with salt and black pepper. Reserve about half the mixture in another bowl for serving. Mince half the jalapeno pepper; save other half for later. Toss cabbage, green onions, and minced jalapeno half in remaining sour cream mixture until slaw is well mixed.\n",
      "Heat olive oil and remaining jalapeno half in a large skillet over medium heat; swirl oil to coat skillet evenly. Season tilapia fillets with salt and pepper. Pan-fry fish strips in the skillet in 2 batches until fish is golden brown and easily flaked with a fork, 5 to 6 minutes. Discard jalapeno half.\n",
      "Heat tortillas in the microwave on high until warm, 20 to 30 seconds.\n",
      "Serve fish in warmed tortillas topped with cabbage slaw, reserved sour cream mixture, and cilantro.\n",
      "\n"
     ]
    }
   ],
   "source": [
    "crawler.reset_count()\n",
    "while (not crawler.done) and crawler.count < limit:\n",
    "    crawler.crawl(method=DEPTH, cached=False)\n",
    "for key, value in crawler.recipe_list.iteritems():\n",
    "    print value"
   ]
  },
  {
   "cell_type": "code",
   "execution_count": 60,
   "metadata": {
    "collapsed": false
   },
   "outputs": [
    {
     "name": "stdout",
     "output_type": "stream",
     "text": [
      "Unable to Scrape: 2169\n",
      "Unable to Scrape: 4582\n",
      "Unable to Scrape: 6490\n",
      "Unable to Scrape: 1265\n",
      "Unable to Scrape: 5850\n",
      "Unable to Scrape: 25\n",
      "Unable to Scrape: 6166\n",
      "Unable to Scrape: 3603\n",
      "Unable to Scrape: 1000\n",
      "Unable to Scrape: 4515\n",
      "Unable to Scrape: 737\n",
      "Unable to Scrape: 1315\n",
      "('scraping', 9749)\n",
      "('Image URL', u'http://images.media-allrecipes.com/global/recipes/nophoto/nopicture-910x511.png')\n",
      "Unable to Scrape: 5993\n",
      "Unable to Scrape: 6318\n",
      "Unable to Scrape: 3974\n",
      "Unable to Scrape: 604\n",
      "Unable to Scrape: 4371\n",
      "('scraping', 8418)\n",
      "('Image URL', u'http://images.media-allrecipes.com/userphotos/250x250/203263.jpg')\n"
     ]
    }
   ],
   "source": [
    "rand_limit = 10\n",
    "search = AllRecipesRandomSearch()\n",
    "\n",
    "while search.count < limit:\n",
    "    rec_id = random.randint(1,10000)\n",
    "    if search.new_id(rec_id):\n",
    "        search.visit(rec_id)\n",
    "\n",
    "pickle.dump( search.recipe_list, open( \"recipes.p\", \"wb\" ) )\n",
    "pickle.dump( search.recipe_list, open( \"tried_ids.p\", \"wb\" ) )"
   ]
  },
  {
   "cell_type": "code",
   "execution_count": 59,
   "metadata": {
    "collapsed": true
   },
   "outputs": [],
   "source": [
    "class AllRecipesRandomSearch():\n",
    "    def __init__(self,tried_ids = None, recipe_list = None ):\n",
    "        self.scraper = AllRecipesScraper()\n",
    "        if tried_ids is None:\n",
    "            self.tried_ids = set()\n",
    "        else:\n",
    "            self.tried_ids = tried_ids\n",
    "        if recipe_list is None:\n",
    "            self.recipe_list = {}\n",
    "        else:\n",
    "            self.recipe_list = recipe_list\n",
    "        self.count = 0\n",
    "        \n",
    "    def reset_count(self):\n",
    "        self.count = 0\n",
    "        \n",
    "    def new_id(self,rec_id):\n",
    "        return rec_id not in self.tried_ids\n",
    "          \n",
    "    def visit(self,rec_id):\n",
    "        url = URL(\"http://allrecipes.com/recipe/\"+str(rec_id))\n",
    "        try:\n",
    "            source = url.download(cached=True)\n",
    "            self.scrape(source, rec_id)\n",
    "        except Exception as detail:\n",
    "            print 'Unable to Scrape:', rec_id\n",
    "            self.tried_ids.add(rec_id)\n",
    "            \n",
    "    def scrape(self,source,rec_id):\n",
    "        print(\"scraping\", rec_id)\n",
    "        element = Element(source)\n",
    "        recipe = self.scraper.get_recipe(element)\n",
    "        self.scraper.save_image(element, rec_id)\n",
    "        self.recipe_list[rec_id]=recipe\n",
    "        self.tried_ids.add(rec_id)\n",
    "        self.count += 1\n",
    "\n",
    "            "
   ]
  },
  {
   "cell_type": "code",
   "execution_count": 63,
   "metadata": {
    "collapsed": false
   },
   "outputs": [
    {
     "name": "stdout",
     "output_type": "stream",
     "text": [
      "fifo\n"
     ]
    }
   ],
   "source": [
    "print crawler.sort\n"
   ]
  },
  {
   "cell_type": "code",
   "execution_count": 41,
   "metadata": {
    "collapsed": false
   },
   "outputs": [],
   "source": [
    "pickle.dump( crawler.recipe_list, open( \"recipes.p\", \"wb\" ) )"
   ]
  },
  {
   "cell_type": "code",
   "execution_count": null,
   "metadata": {
    "collapsed": true
   },
   "outputs": [],
   "source": [
    "#TODO\n",
    "#get rid of \"Add all ingredients to list\"\n",
    "#resize images?\n",
    "#random generation instead of crawling?"
   ]
  }
 ],
 "metadata": {
  "kernelspec": {
   "display_name": "Python 2",
   "language": "python",
   "name": "python2"
  },
  "language_info": {
   "codemirror_mode": {
    "name": "ipython",
    "version": 2
   },
   "file_extension": ".py",
   "mimetype": "text/x-python",
   "name": "python",
   "nbconvert_exporter": "python",
   "pygments_lexer": "ipython2",
   "version": "2.7.6"
  }
 },
 "nbformat": 4,
 "nbformat_minor": 0
}
