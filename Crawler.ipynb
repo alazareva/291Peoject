{
 "cells": [
  {
   "cell_type": "code",
   "execution_count": 39,
   "metadata": {
    "collapsed": true
   },
   "outputs": [],
   "source": [
    "from pattern.web import URL, DOM, plaintext, Element, extension, Crawler, DEPTH\n",
    "import re\n",
    "import pickle"
   ]
  },
  {
   "cell_type": "code",
   "execution_count": 5,
   "metadata": {
    "collapsed": false
   },
   "outputs": [],
   "source": [
    "class Scraper():\n",
    "    def save_image(self):\n",
    "        pass\n",
    "    def get_recipe(self):\n",
    "        pass"
   ]
  },
  {
   "cell_type": "code",
   "execution_count": 25,
   "metadata": {
    "collapsed": true
   },
   "outputs": [],
   "source": [
    "class AllRecipesScraper(Scraper):\n",
    "    def save_image(self,element,idx):\n",
    "        first_rec_photo = element.by_class(\"rec-photo\")[0]\n",
    "        url = first_rec_photo.attributes.get('src','')\n",
    "        print(\"Image URL\", url)\n",
    "        img_url = URL(url)\n",
    "        f = open(\"img/\"+str(idx) + extension(img_url.page), 'wb')\n",
    "        f.write(img_url.download())\n",
    "        f.close()\n",
    "        \n",
    "    def get_ingredients(self,element):\n",
    "        ing_nodes = element.by_class(\"recipe-ingred_txt added\")\n",
    "        return \"\\n\".join([plaintext(a.content) for a in ing_nodes])\n",
    "\n",
    "    \n",
    "    def get_instructions(self,element):\n",
    "        instr_nodes = element.by_class(\"recipe-directions__list--item\")\n",
    "        return \"\\n\".join([plaintext(a.content) for a in instr_nodes])\n",
    "    \n",
    "    def get_recipe(self,element):\n",
    "        return self.get_ingredients(element)+\"\\n\"+self.get_instructions(element)\n",
    "        "
   ]
  },
  {
   "cell_type": "code",
   "execution_count": 43,
   "metadata": {
    "collapsed": true
   },
   "outputs": [],
   "source": [
    "class AllRecipesCrawler(Crawler):\n",
    "    def __init__(self,links, delay):\n",
    "        super( AllRecipesCrawler, self ).__init__(links=links, delay=delay)\n",
    "        self.scraper = AllRecipesScraper()\n",
    "        self.recipe_list = {}\n",
    "        self.count = 0\n",
    "        \n",
    "    def reset_count(self):\n",
    "        self.count = 0\n",
    "        \n",
    "    def follow(self, link):\n",
    "        print(\"following\", str(link.url))\n",
    "        if \"recipes/\" in str(link.url):\n",
    "            yield True\n",
    "        else:\n",
    "            yield False\n",
    "            \n",
    "    def visit(self, link, source=None):\n",
    "        if \"recipe/\" in str(link.url):\n",
    "            print(\"visiting\", str(link.url))\n",
    "            rec_id = re.search(\".*recipe/(.*)(/.*/)+\", str(link.url)).group(1)\n",
    "            print(\"rec_id\",rec_id)\n",
    "            self.scrape(source, rec_id)\n",
    "            \n",
    "    def scrape(self,source,rec_id):\n",
    "        print(\"scraping\", rec_id)\n",
    "        element = Element(source)\n",
    "        try:\n",
    "            recipe = self.scraper.get_recipe(element)\n",
    "            self.scraper.save_image(element, rec_id)\n",
    "            self.recipe_list[rec_id]=recipe\n",
    "            self.count += 1\n",
    "        except Exception as detail:\n",
    "            print 'Handling run-time error:', detail\n",
    "            \n",
    "    \n"
   ]
  },
  {
   "cell_type": "code",
   "execution_count": 44,
   "metadata": {
    "collapsed": false
   },
   "outputs": [
    {
     "name": "stdout",
     "output_type": "stream",
     "text": [
      "('visiting', 'http://allrecipes.com/recipe/242279/spicy-chipotle-lettuce-wraps/')\n",
      "('rec_id', '242279')\n",
      "('scraping', '242279')\n",
      "('Image URL', u'http://images.media-allrecipes.com/userphotos/720x405/3481781.jpg')\n",
      "('visiting', 'http://allrecipes.com/recipe/141370/mexican-strawberry-water-agua-de-fresa/')\n",
      "('rec_id', '141370')\n",
      "('scraping', '141370')\n",
      "('Image URL', u'http://images.media-allrecipes.com/userphotos/720x405/1033332.jpg')\n",
      "Sauce:\n",
      "2 (15 ounce) cans tomato sauce\n",
      "1 cup water\n",
      "1/2 cup chipotle peppers in adobo sauce\n",
      "3 tablespoons chili powder\n",
      "1 teaspoon dried oregano\n",
      "1 teaspoon sea salt\n",
      "Wraps:\n",
      "2 tablespoons extra-virgin olive oil\n",
      "2 small onions, finely chopped\n",
      "2 green bell peppers, finely chopped\n",
      "1 pinch salt\n",
      "1 1/2 pounds ground beef\n",
      "4 cloves garlic, minced\n",
      "2 (15 ounce) cans kidney beans, rinsed and drained\n",
      "1 (15 ounce) can black beans, rinsed and drained\n",
      "16 romaine lettuce leaves\n",
      "Add all ingredients to list\n",
      "Add all ingredients to list\n",
      "Blend tomato sauce, water, chipotle peppers in adobo sauce, chili powder, oregano, and 1 teaspoon sea salt together in a blender until sauce is smooth.\n",
      "Heat olive oil in a large Dutch oven or heavy pot over medium heat; cook and stir onions, green bell peppers, and a pinch salt until softened, 5 to 10 minutes. Add ground beef and increase heat to medium-high; cook and stir until beef is browned and crumbly, 5 to 10 minutes. Drain excess grease.\n",
      "Mix garlic and sauce into ground beef mixture; cook and stir until heated through, 2 to 3 minutes. Stir kidney beans and black beans into into ground beef sauce and simmer, stirring occasionally, until filling flavors have blended, about 20 minutes.\n",
      "Spoon filling into lettuce leaves.\n",
      "\n",
      "4 cups strawberries, sliced\n",
      "1 cup white sugar\n",
      "8 cups cold water\n",
      "1 lime, cut into 8 wedges (optional)\n",
      "8 fresh mint sprigs (optional)\n",
      "Add all ingredients to list\n",
      "Add all ingredients to list\n",
      "In a medium bowl, mix together sliced strawberries, sugar, and 1 cup of water. Cover the bowl with plastic wrap and place in the refrigerator for 4 hours.\n",
      "Remove the strawberry mixture from the refrigerator and pour into a blender. Blend on high until smooth. Pour the blended berry mixture through a wire mesh strainer set over a large mixing bowl; discard the pulp and seeds.\n",
      "Add the remaining 7 cups cold water to the pureed strawberries and mix well. Place the Aqua de Fresa in the refrigerator to chill for several hours or pour over ice and serve immediately. Garnish with lime slices or mint leaves.\n",
      "\n"
     ]
    }
   ],
   "source": [
    "base_url = \"http://allrecipes.com/\"\n",
    "limit = 2\n",
    "crawler = AllRecipesCrawler(links=[base_url], delay=3)\n",
    "while (not crawler.done) and crawler.count < limit:\n",
    "    crawler.crawl(method=DEPTH, cached=False)\n",
    "\n",
    "for key, value in crawler.recipe_list.iteritems():\n",
    "    print value"
   ]
  },
  {
   "cell_type": "code",
   "execution_count": null,
   "metadata": {
    "collapsed": false
   },
   "outputs": [
    {
     "name": "stdout",
     "output_type": "stream",
     "text": [
      "('visiting', 'http://allrecipes.com/recipe/222744/dandelion-greens-with-a-kick/')\n",
      "('rec_id', '222744')\n",
      "('scraping', '222744')\n",
      "('Image URL', u'http://images.media-allrecipes.com/userphotos/250x250/838595.jpg')\n"
     ]
    }
   ],
   "source": [
    "crawler.reset_count()\n",
    "while (not crawler.done) and crawler.count < limit:\n",
    "    crawler.crawl(method=DEPTH, cached=False)\n",
    "for key, value in crawler.recipe_list.iteritems():\n",
    "    print value"
   ]
  },
  {
   "cell_type": "code",
   "execution_count": 41,
   "metadata": {
    "collapsed": false
   },
   "outputs": [],
   "source": [
    "pickle.dump( crawler.recipe_list, open( \"recipes.p\", \"wb\" ) )"
   ]
  },
  {
   "cell_type": "code",
   "execution_count": null,
   "metadata": {
    "collapsed": true
   },
   "outputs": [],
   "source": [
    "#TODO\n",
    "#get rid of \"Add all ingredients to list\"\n",
    "#resize images?\n",
    "#random generation instead of crawling?"
   ]
  }
 ],
 "metadata": {
  "kernelspec": {
   "display_name": "Python 2",
   "language": "python",
   "name": "python2"
  },
  "language_info": {
   "codemirror_mode": {
    "name": "ipython",
    "version": 2
   },
   "file_extension": ".py",
   "mimetype": "text/x-python",
   "name": "python",
   "nbconvert_exporter": "python",
   "pygments_lexer": "ipython2",
   "version": "2.7.6"
  }
 },
 "nbformat": 4,
 "nbformat_minor": 0
}
