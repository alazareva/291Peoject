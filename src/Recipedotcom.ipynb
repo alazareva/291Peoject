{
 "cells": [
  {
   "cell_type": "code",
   "execution_count": 1,
   "metadata": {
    "collapsed": true
   },
   "outputs": [],
   "source": [
    "from pattern.web import URL, DOM, plaintext, Element, extension, Crawler, DEPTH\n",
    "import re\n",
    "import pickle\n",
    "import random\n",
    "import PIL\n",
    "from PIL import Image\n",
    "import datetime"
   ]
  },
  {
   "cell_type": "code",
   "execution_count": 2,
   "metadata": {
    "collapsed": true
   },
   "outputs": [],
   "source": [
    "class Scraper():\n",
    "    def save_image(self):\n",
    "        pass\n",
    "    def get_recipe(self):\n",
    "        pass"
   ]
  },
  {
   "cell_type": "code",
   "execution_count": 3,
   "metadata": {
    "collapsed": true
   },
   "outputs": [],
   "source": [
    "class RecipeDotComScraper(Scraper):\n",
    "    def save_image(self,element,idx,basewidth = 300):\n",
    "        first_rec_photo = element.by_class(\"photo\")[0]\n",
    "        url = first_rec_photo.attributes.get('src','')\n",
    "        img_url = URL(url)\n",
    "        img = Image.open(img_url)\n",
    "        wpercent = (basewidth / float(img.size[0]))\n",
    "        hsize = int((float(img.size[1]) * float(wpercent)))\n",
    "        img = img.resize((basewidth, hsize), PIL.Image.ANTIALIAS)\n",
    "        img.save(\"img/\"+str(idx) + extension(img_url.page))\n",
    "        \n",
    "    def get_ingredients(self,element):\n",
    "        ing_nodes = element.by_class(\"floatleft ingredient\")\n",
    "        return \"\\n\".join([plaintext(a.content) for a in ing_nodes])\n",
    "\n",
    "    \n",
    "    def get_instructions(self,element):\n",
    "        instr_nodes = element.by_class(\"stepbystepInstruction instruction\")\n",
    "        return \"\\n\".join([plaintext(a.content) for a in instr_nodes])\n",
    "    \n",
    "    def get_recipe(self,element):\n",
    "        return self.get_ingredients(element)+\"\\n\"+self.get_instructions(element)\n",
    "        "
   ]
  },
  {
   "cell_type": "code",
   "execution_count": 4,
   "metadata": {
    "collapsed": true
   },
   "outputs": [],
   "source": [
    "test_urls = [\"http://www.recipe.com/broccoli-spinach-soup-with-avocado-toasts/\"\n",
    "             , \"http://www.recipe.com/lemon-ginger-poached-halibut-with-leeks-and-spinach/?sessionTemplate=full\"]"
   ]
  },
  {
   "cell_type": "code",
   "execution_count": null,
   "metadata": {
    "collapsed": true
   },
   "outputs": [],
   "source": [
    "scraper = RecipeDotComScraper()\n",
    "data = []\n",
    "for idx,test_url in enumerate(test_urls):\n",
    "    url = URL(test_url)\n",
    "    html = url.download(cached=True)\n",
    "    element = Element(html)\n",
    "    ing_str = get_ingredients(element)\n",
    "    instruction_str = get_instructions(element)\n",
    "    data.append(ing_str+\"\\n\"+instruction_str)\n",
    "    save_image(element, idx)\n",
    "    "
   ]
  }
 ],
 "metadata": {
  "kernelspec": {
   "display_name": "Python 2",
   "language": "python",
   "name": "python2"
  },
  "language_info": {
   "codemirror_mode": {
    "name": "ipython",
    "version": 2
   },
   "file_extension": ".py",
   "mimetype": "text/x-python",
   "name": "python",
   "nbconvert_exporter": "python",
   "pygments_lexer": "ipython2",
   "version": "2.7.6"
  }
 },
 "nbformat": 4,
 "nbformat_minor": 0
}
