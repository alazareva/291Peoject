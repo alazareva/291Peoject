{
 "cells": [
  {
   "cell_type": "code",
   "execution_count": 6,
   "metadata": {
    "collapsed": true
   },
   "outputs": [],
   "source": [
    "from pattern.web import URL, DOM, plaintext, Element, extension, DEPTH\n",
    "import re"
   ]
  },
  {
   "cell_type": "code",
   "execution_count": 2,
   "metadata": {
    "collapsed": true
   },
   "outputs": [],
   "source": [
    "test_urls = [\"http://allrecipes.com/recipe/19125\",\"http://allrecipes.com/recipe/8854/\"]"
   ]
  },
  {
   "cell_type": "code",
   "execution_count": 11,
   "metadata": {
    "collapsed": false
   },
   "outputs": [],
   "source": [
    "def get_ingredients(element):\n",
    "    ing_nodes = element.by_class(\"recipe-ingred_txt added\")\n",
    "    return \"\\n\".join([plaintext(a.content) for a in ing_nodes])\n",
    "\n"
   ]
  },
  {
   "cell_type": "code",
   "execution_count": 7,
   "metadata": {
    "collapsed": true
   },
   "outputs": [],
   "source": [
    "def get_instructions(element):\n",
    "    instr_nodes = element.by_class(\"recipe-directions__list--item\")\n",
    "    return \"\\n\".join([plaintext(a.content) for a in instr_nodes])"
   ]
  },
  {
   "cell_type": "code",
   "execution_count": 21,
   "metadata": {
    "collapsed": true
   },
   "outputs": [],
   "source": [
    "def save_image(element,idx):\n",
    "    first_rec_photo = element.by_class(\"rec-photo\")[0]\n",
    "    url = first_rec_photo.attributes.get('src','')\n",
    "    print(\"Image URL\", url)\n",
    "    img_url = URL(url)\n",
    "    f = open(\"img/\"+str(idx) + extension(img_url.page), 'wb')\n",
    "    f.write(img_url.download())\n",
    "    f.close()\n",
    "\n",
    "\n"
   ]
  },
  {
   "cell_type": "code",
   "execution_count": 22,
   "metadata": {
    "collapsed": false
   },
   "outputs": [
    {
     "name": "stdout",
     "output_type": "stream",
     "text": [
      "('Image URL', u'http://images.media-allrecipes.com/userphotos/250x250/565645.jpg')\n",
      "('Image URL', u'http://images.media-allrecipes.com/userphotos/720x405/2204020.jpg')\n"
     ]
    }
   ],
   "source": [
    "data = []\n",
    "for idx,test_url in enumerate(test_urls):\n",
    "    url = URL(test_url)\n",
    "    html = url.download(cached=True)\n",
    "    element = Element(html)\n",
    "    rec_id =element.by_tag(str)\n",
    "    ing_str = get_ingredients(element)\n",
    "    instruction_str = get_instructions(element)\n",
    "    data.append(ing_str+\"\\n\"+instruction_str)\n",
    "    save_image(element, idx)\n",
    "    \n",
    "    \n",
    "\n",
    " "
   ]
  },
  {
   "cell_type": "code",
   "execution_count": 23,
   "metadata": {
    "collapsed": false
   },
   "outputs": [
    {
     "name": "stdout",
     "output_type": "stream",
     "text": [
      "1 tablespoon olive oil\n",
      "1 tablespoon minced garlic\n",
      "3 pounds skinless, boneless chicken breast halves\n",
      "1 tablespoon paprika\n",
      "1 cup brown sugar\n",
      "1 cup red wine\n",
      "salt and pepper to taste\n",
      "Add all ingredients to list\n",
      "Add all ingredients to list\n",
      "Heat oil in a large skillet over medium high heat. Cook garlic in oil until tender. Place chicken in the skillet, and cook about 10 minutes on each side, until no longer pink and juices run clear.\n",
      "Drain oil from skillet. Sprinkle chicken with paprika and 1 cup brown sugar. Pour red wine around chicken. Cover, and simmer about 15 to 20 minutes; lightly baste chicken with wine sauce while cooking. Season to taste with salt and pepper.\n",
      "\n",
      "1 pound chopped fresh broccoli\n",
      "1 1/2 cups cubed, cooked chicken meat\n",
      "1 (10.75 ounce) can condensed cream of broccoli soup\n",
      "1/3 cup milk\n",
      "1/2 cup shredded Cheddar cheese\n",
      "1 tablespoon butter, melted\n",
      "2 tablespoons dried bread crumbs\n",
      "Add all ingredients to list\n",
      "Add all ingredients to list\n",
      "Preheat oven to 450 degrees F (230 degrees C).\n",
      "Place the broccoli in a saucepan with enough water to cover. Bring to a boil, and cook 5 minutes, or until tender. Drain.\n",
      "Place the cooked broccoli in a 9 inch pie plate. Top with the chicken. In a bowl, mix the soup and milk, and pour over the chicken. Sprinkle with Cheddar cheese. Mix the melted butter with the bread crumbs, and sprinkle over the cheese.\n",
      "Bake in the preheated oven for 15 minutes, or until bubbly and lightly brown.\n",
      "\n"
     ]
    }
   ],
   "source": [
    "for rec in data:\n",
    "    print rec"
   ]
  },
  {
   "cell_type": "code",
   "execution_count": null,
   "metadata": {
    "collapsed": true
   },
   "outputs": [],
   "source": []
  }
 ],
 "metadata": {
  "kernelspec": {
   "display_name": "Python 2",
   "language": "python",
   "name": "python2"
  },
  "language_info": {
   "codemirror_mode": {
    "name": "ipython",
    "version": 2
   },
   "file_extension": ".py",
   "mimetype": "text/x-python",
   "name": "python",
   "nbconvert_exporter": "python",
   "pygments_lexer": "ipython2",
   "version": "2.7.6"
  }
 },
 "nbformat": 4,
 "nbformat_minor": 0
}
