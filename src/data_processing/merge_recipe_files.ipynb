{
 "cells": [
  {
   "cell_type": "code",
   "execution_count": 6,
   "metadata": {
    "collapsed": false
   },
   "outputs": [],
   "source": [
    "import pickle\n",
    "import random\n",
    "import PIL\n",
    "import time\n",
    "from PIL import Image\n",
    "import os"
   ]
  },
  {
   "cell_type": "code",
   "execution_count": 16,
   "metadata": {
    "collapsed": false
   },
   "outputs": [
    {
     "name": "stdout",
     "output_type": "stream",
     "text": [
      "8545\n",
      "recipes_final1.p\n",
      "2226\n",
      "recipes022.p\n",
      "2299\n",
      "recipes522.p\n",
      "2739\n",
      "recipes4.p\n",
      "2645\n",
      "recipes2.p\n",
      "2458\n",
      "recipes1.p\n",
      "2374\n",
      "recipes_merged.p\n",
      "7580\n",
      "recipes01.p\n",
      "1772\n",
      "recipes51.p\n",
      "2210\n",
      "recipes3.p\n",
      "2559\n",
      "recipes0.p\n",
      "2299\n",
      "recipes5.p\n",
      "2739\n",
      "recipes_first_3000.p\n",
      "7850\n",
      "recipes22.p\n",
      "2\n",
      "recipes8.p\n",
      "8545\n",
      "8545\n"
     ]
    }
   ],
   "source": [
    "intial_recipe = pickle.load(open(\"../../recipe_sharath.p\",\"rb\"))\n",
    "print(len(initial_recipe))\n",
    "directory = \"../sharath_recipes\"\n",
    "for name in os.listdir(directory):\n",
    "    #name = os.path.splitext(name)[0]\n",
    "    #print(name)\n",
    "    #list_of_image_ids.append(name)\n",
    "    full_path = os.path.join(directory, name)\n",
    "    print(name)\n",
    "    current_recipe = pickle.load(open(full_path,\"rb\"))\n",
    "    print(len(current_recipe))\n",
    "    z = intial_recipe.copy()\n",
    "    merged_recipe = z.update(current_recipe)\n",
    "    initial_recipe = z.copy()\n",
    "    \n",
    "print len(initial_recipe)\n",
    "\n"
   ]
  },
  {
   "cell_type": "code",
   "execution_count": 10,
   "metadata": {
    "collapsed": true
   },
   "outputs": [],
   "source": [
    "pickle.dump( initial_recipe, open( \"all_recipes.p\", \"wb\" ) )"
   ]
  }
 ],
 "metadata": {
  "kernelspec": {
   "display_name": "Python 2",
   "language": "python",
   "name": "python2"
  },
  "language_info": {
   "codemirror_mode": {
    "name": "ipython",
    "version": 2
   },
   "file_extension": ".py",
   "mimetype": "text/x-python",
   "name": "python",
   "nbconvert_exporter": "python",
   "pygments_lexer": "ipython2",
   "version": "2.7.11"
  }
 },
 "nbformat": 4,
 "nbformat_minor": 0
}
