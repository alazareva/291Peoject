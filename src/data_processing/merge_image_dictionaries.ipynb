{
 "cells": [
  {
   "cell_type": "code",
   "execution_count": 1,
   "metadata": {
    "collapsed": true
   },
   "outputs": [],
   "source": [
    "import pickle\n",
    "import random\n",
    "import PIL\n",
    "import time\n",
    "from PIL import Image\n",
    "import os"
   ]
  },
  {
   "cell_type": "code",
   "execution_count": 7,
   "metadata": {
    "collapsed": false
   },
   "outputs": [
    {
     "name": "stdout",
     "output_type": "stream",
     "text": [
      "28522\n",
      "8630\n",
      "136\n",
      "Intersection\n",
      "827\n",
      "36325\n"
     ]
    }
   ],
   "source": [
    "train_features_ana = pickle.load(open(\"../../dataset/model_data/features_al.p\",\"rb\"))\n",
    "train_features_sha = pickle.load(open(\"../../dataset/features.p\",\"rb\"))\n",
    "test_features_ana = pickle.load(open(\"../../dataset/model_data/test_features.p\",\"rb\"))\n",
    "\n",
    "print(len(train_features_ana))\n",
    "print(len(train_features_sha))\n",
    "print(len(test_features_ana))\n",
    "\n",
    "f1 = set(train_features_ana)\n",
    "f2 = set(train_features_sha)\n",
    "\n",
    "intersection = f1.intersection(f2)\n",
    "print (\"Intersection\")\n",
    "print(len(intersection))\n",
    "\n",
    "z = train_features_ana.copy()\n",
    "merged_features = z.update(train_features_sha)\n",
    "#final = z.copy()\n",
    "   \n",
    "print len(z)\n",
    "#print len(final)\n"
   ]
  },
  {
   "cell_type": "code",
   "execution_count": 8,
   "metadata": {
    "collapsed": true
   },
   "outputs": [],
   "source": [
    "pickle.dump(z, open( \"al_sha_features.p\", \"wb\" ) )"
   ]
  }
 ],
 "metadata": {
  "kernelspec": {
   "display_name": "Python 2",
   "language": "python",
   "name": "python2"
  },
  "language_info": {
   "codemirror_mode": {
    "name": "ipython",
    "version": 2
   },
   "file_extension": ".py",
   "mimetype": "text/x-python",
   "name": "python",
   "nbconvert_exporter": "python",
   "pygments_lexer": "ipython2",
   "version": "2.7.11"
  }
 },
 "nbformat": 4,
 "nbformat_minor": 0
}
