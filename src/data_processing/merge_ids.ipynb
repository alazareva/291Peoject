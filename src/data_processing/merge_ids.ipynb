{
 "cells": [
  {
   "cell_type": "code",
   "execution_count": 1,
   "metadata": {
    "collapsed": true
   },
   "outputs": [],
   "source": [
    "from pattern.web import URL, DOM, plaintext, Element, extension, Crawler, DEPTH\n",
    "import re\n",
    "import pickle\n",
    "import random\n",
    "import PIL\n",
    "import time\n",
    "from PIL import Image"
   ]
  },
  {
   "cell_type": "code",
   "execution_count": 10,
   "metadata": {
    "collapsed": false
   },
   "outputs": [
    {
     "name": "stdout",
     "output_type": "stream",
     "text": [
      "15368\n",
      "2758\n",
      "15268\n",
      "2739\n",
      "15368\n",
      "2758\n"
     ]
    }
   ],
   "source": [
    "tried_ids_sharath = pickle.load(open(\"sharath_ids/tried_ids_final.p\",\"rb\"))\n",
    "recipe_list_sharath = pickle.load(open(\"sharath_ids/recipes_final.p\",\"rb\"))\n",
    "\n",
    "print len(tried_ids_sharath)\n",
    "print len(recipe_list_sharath)\n",
    "\n",
    "#Change the location to Other Ids and Recipes files\n",
    "tried_ids = pickle.load(open(\"tried_ids.p\",\"rb\"))\n",
    "recipe_list = pickle.load(open(\"recipes.p\",\"rb\"))\n",
    "\n",
    "print len(tried_ids)\n",
    "print len(recipe_list)\n",
    "\n",
    "merged_ids = tried_ids_sharath.union(tried_ids)\n",
    "\n",
    "z = recipe_list_sharath.copy()\n",
    "merged_recipe = z.update(recipe_list)\n",
    "\n",
    "print len(merged_ids)\n",
    "print len(z)\n",
    "\n",
    "pickle.dump( merged_ids, open( \"recipes_merged.p\", \"wb\" ) )\n",
    "pickle.dump( merged_recipe, open( \"tried_ids_merged.p\", \"wb\" ) )"
   ]
  },
  {
   "cell_type": "code",
   "execution_count": null,
   "metadata": {
    "collapsed": true
   },
   "outputs": [],
   "source": []
  }
 ],
 "metadata": {
  "kernelspec": {
   "display_name": "Python 2",
   "language": "python",
   "name": "python2"
  },
  "language_info": {
   "codemirror_mode": {
    "name": "ipython",
    "version": 2
   },
   "file_extension": ".py",
   "mimetype": "text/x-python",
   "name": "python",
   "nbconvert_exporter": "python",
   "pygments_lexer": "ipython2",
   "version": "2.7.6"
  }
 },
 "nbformat": 4,
 "nbformat_minor": 0
}
