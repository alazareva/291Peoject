{
 "cells": [
  {
   "cell_type": "code",
   "execution_count": 1,
   "metadata": {
    "collapsed": false
   },
   "outputs": [],
   "source": [
    "import pickle\n",
    "import random\n",
    "import PIL\n",
    "import time\n",
    "from PIL import Image\n",
    "import os"
   ]
  },
  {
   "cell_type": "code",
   "execution_count": 2,
   "metadata": {
    "collapsed": false
   },
   "outputs": [
    {
     "name": "stdout",
     "output_type": "stream",
     "text": [
      "11653\n",
      "10493\n",
      "152\n"
     ]
    }
   ],
   "source": [
    "p_recipe = pickle.load(open(\"../paul_recipes.p\",\"rb\"))\n",
    "print(len(p_recipe))\n",
    "\n",
    "p_feat = pickle.load(open(\"../paul_features.p\",\"rb\"))\n",
    "print(len(p_feat))\n",
    "\n",
    "set1 = set(p_recipe.keys())\n",
    "set2 = set(p_feat.keys())\n",
    "\n",
    "common = set1.intersection(set2)\n",
    "print(len(common))\n",
    "\n"
   ]
  },
  {
   "cell_type": "code",
   "execution_count": 9,
   "metadata": {
    "collapsed": true
   },
   "outputs": [],
   "source": [
    "pickle.dump( z, open( \"after_hunting_recipes2.p\", \"wb\" ) )"
   ]
  }
 ],
 "metadata": {
  "kernelspec": {
   "display_name": "Python 2",
   "language": "python",
   "name": "python2"
  },
  "language_info": {
   "codemirror_mode": {
    "name": "ipython",
    "version": 2
   },
   "file_extension": ".py",
   "mimetype": "text/x-python",
   "name": "python",
   "nbconvert_exporter": "python",
   "pygments_lexer": "ipython2",
   "version": "2.7.11"
  }
 },
 "nbformat": 4,
 "nbformat_minor": 0
}
