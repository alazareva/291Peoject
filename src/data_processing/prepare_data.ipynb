{
 "cells": [
  {
   "cell_type": "code",
   "execution_count": 1,
   "metadata": {
    "collapsed": true
   },
   "outputs": [],
   "source": [
    "import csv\n",
    "import numpy as np\n",
    "import pickle\n",
    "\n",
    "%matplotlib inline\n",
    "\n",
    "import copy as cp\n",
    "import pandas as pd\n",
    "\n",
    "from __future__ import absolute_import\n",
    "from __future__ import division\n",
    "from __future__ import print_function\n",
    "\n",
    "import os.path\n",
    "import re\n",
    "import sys\n",
    "import tarfile\n",
    "\n",
    "from six.moves import urllib\n",
    "import tensorflow as tf"
   ]
  },
  {
   "cell_type": "code",
   "execution_count": 2,
   "metadata": {
    "collapsed": false
   },
   "outputs": [
    {
     "name": "stdout",
     "output_type": "stream",
     "text": [
      "10493\n"
     ]
    }
   ],
   "source": [
    "paul_features = pickle.load(open(\"paul_features.p\",\"rb\"))\n",
    "\n",
    "print(len(paul_features))"
   ]
  },
  {
   "cell_type": "code",
   "execution_count": 4,
   "metadata": {
    "collapsed": false
   },
   "outputs": [
    {
     "name": "stdout",
     "output_type": "stream",
     "text": [
      "2548\n"
     ]
    }
   ],
   "source": [
    "image_ids = paul_features.keys()\n",
    "master_features = pickle.load(open(\"../dataset/image/master_features_filtered.p\",\"rb\"))\n",
    "all_ids = master_features.keys()\n",
    "\n",
    "set1 = set(image_ids)\n",
    "set2 = set(all_ids)\n",
    "\n",
    "common = set1.intersection(set2)\n",
    "print(len(common))\n"
   ]
  },
  {
   "cell_type": "code",
   "execution_count": 5,
   "metadata": {
    "collapsed": false
   },
   "outputs": [
    {
     "name": "stdout",
     "output_type": "stream",
     "text": [
      "7945\n"
     ]
    }
   ],
   "source": [
    "to_dload = list()\n",
    "count =0\n",
    "\n",
    "for key in image_ids:\n",
    "    if key not in all_ids:\n",
    "        to_dload.append(key)\n",
    "    else:\n",
    "        #print(key)\n",
    "        count =count+1\n",
    "\n",
    "print(len(to_dload))\n"
   ]
  },
  {
   "cell_type": "code",
   "execution_count": 6,
   "metadata": {
    "collapsed": true
   },
   "outputs": [],
   "source": [
    "pickle.dump(to_dload, open( \"paul_recipe_to_dload.p\", \"wb\" ) )"
   ]
  },
  {
   "cell_type": "code",
   "execution_count": 4,
   "metadata": {
    "collapsed": false
   },
   "outputs": [
    {
     "name": "stdout",
     "output_type": "stream",
     "text": [
      "15282\n",
      "28522\n"
     ]
    }
   ],
   "source": [
    "master_features = pickle.load(open(\"../dataset/image/master_features.p\",\"rb\"))\n",
    "\n",
    "recipe1 = pickle.load(open(\"../dataset/caption/sharath_recipes.p\",\"rb\"))\n",
    "recipe2 = pickle.load(open(\"../dataset/caption/train_recipes_al.p\",\"rb\"))\n",
    "\n",
    "print(len(recipe1))\n",
    "print(len(recipe2))\n",
    "\n"
   ]
  },
  {
   "cell_type": "code",
   "execution_count": 7,
   "metadata": {
    "collapsed": false
   },
   "outputs": [
    {
     "name": "stdout",
     "output_type": "stream",
     "text": [
      "38638\n",
      "5166\n"
     ]
    }
   ],
   "source": [
    "#Merge the two recipes\n",
    "\n",
    "one = recipe1.copy()\n",
    "one.update(recipe2)\n",
    "print(len(one))\n",
    "\n",
    "set1 = set(recipe1)\n",
    "set2 = set(recipe2)\n",
    "\n",
    "common = set1.intersection(set2)\n",
    "print(len(common))\n"
   ]
  },
  {
   "cell_type": "code",
   "execution_count": 6,
   "metadata": {
    "collapsed": false
   },
   "outputs": [
    {
     "name": "stdout",
     "output_type": "stream",
     "text": [
      "38638\n",
      "36420\n"
     ]
    }
   ],
   "source": [
    "print(len(one))\n",
    "print(len(master_features.keys()))"
   ]
  },
  {
   "cell_type": "code",
   "execution_count": 11,
   "metadata": {
    "collapsed": false
   },
   "outputs": [
    {
     "name": "stdout",
     "output_type": "stream",
     "text": [
      "205540 2\n",
      "16421\n",
      "242436\n",
      "244887\n",
      "24922\n",
      "244680\n",
      "0\n",
      "21321\n",
      "15641\n",
      "15810\n",
      "18897\n",
      "27739\n",
      "46609\n",
      "14676\n",
      "24878\n",
      "35361\n",
      "17743\n",
      "244831\n",
      "25285\n",
      "245085\n",
      "21256\n",
      "16690\n",
      "246726\n",
      "32513\n",
      "1\n",
      "245721\n",
      "244579\n",
      "18015\n",
      "12816\n",
      "244816\n",
      "15861\n",
      "15023\n",
      "20663\n",
      "241240\n",
      "31972\n",
      "20179\n",
      "241238\n",
      "17192\n",
      "8990\n",
      "14039\n",
      "244830\n",
      "16338\n",
      "24685\n",
      "36377\n"
     ]
    }
   ],
   "source": [
    "recipe_keys = one.keys()\n",
    "count =0\n",
    "new_master =dict()\n",
    "\n",
    "for key in master_features.keys():\n",
    "    if key in recipe_keys:\n",
    "        new_master[key] = master_features[key].copy()\n",
    "    else:\n",
    "        print(key)\n",
    "        count =count+1\n",
    "print(len(new_master))\n"
   ]
  },
  {
   "cell_type": "code",
   "execution_count": 12,
   "metadata": {
    "collapsed": true
   },
   "outputs": [],
   "source": [
    "pickle.dump(new_master, open( \"../dataset/image/master_features_filtered.p\", \"wb\" ) )"
   ]
  },
  {
   "cell_type": "code",
   "execution_count": 16,
   "metadata": {
    "collapsed": false
   },
   "outputs": [
    {
     "name": "stdout",
     "output_type": "stream",
     "text": [
      "36377\n",
      "2261\n"
     ]
    }
   ],
   "source": [
    "rcount =0\n",
    "new_master_recipe =dict()\n",
    "\n",
    "for key in recipe_keys:\n",
    "    if key in new_master.keys():\n",
    "        new_master_recipe[key] = one[key]\n",
    "    else:\n",
    "        #print(key)\n",
    "        rcount =rcount+1\n",
    "print(len(new_master_recipe))\n",
    "print(rcount)\n"
   ]
  },
  {
   "cell_type": "code",
   "execution_count": 17,
   "metadata": {
    "collapsed": true
   },
   "outputs": [],
   "source": [
    "pickle.dump(new_master_recipe, open( \"../dataset/caption/new_master_recipe.p\", \"wb\" ) )"
   ]
  },
  {
   "cell_type": "code",
   "execution_count": null,
   "metadata": {
    "collapsed": true
   },
   "outputs": [],
   "source": []
  },
  {
   "cell_type": "code",
   "execution_count": 22,
   "metadata": {
    "collapsed": false
   },
   "outputs": [
    {
     "name": "stdout",
     "output_type": "stream",
     "text": [
      "10493\n",
      "11653\n",
      "44322\n",
      "46567\n"
     ]
    }
   ],
   "source": [
    "paul_features = pickle.load(open(\"paul_features.p\",\"rb\"))\n",
    "paul_recipe = pickle.load(open(\"paul_recipes.p\",\"rb\"))\n",
    "\n",
    "print(len(paul_features))\n",
    "print(len(paul_recipe))\n",
    "\n",
    "image_merge = new_master.copy()\n",
    "image_merge.update(paul_features)\n",
    "\n",
    "cap_merge = new_master_recipe.copy()\n",
    "cap_merge.update(paul_recipe)\n",
    "\n",
    "print(len(image_merge))\n",
    "print(len(cap_merge))"
   ]
  },
  {
   "cell_type": "code",
   "execution_count": null,
   "metadata": {
    "collapsed": true
   },
   "outputs": [],
   "source": [
    "pickle.dump(image_merge, open( \"../dataset/caption/final_features.p\", \"wb\" ))\n",
    "pickle.dump(cap_merge, open( \"../dataset/caption/final_recipes.p\", \"wb\" ))"
   ]
  },
  {
   "cell_type": "code",
   "execution_count": null,
   "metadata": {
    "collapsed": true
   },
   "outputs": [],
   "source": []
  },
  {
   "cell_type": "code",
   "execution_count": null,
   "metadata": {
    "collapsed": true
   },
   "outputs": [],
   "source": [
    "all_image_features = pickle.load(open(\"../dataset/image/al_sha_features.p\",\"rb\"))\n",
    "print(len(all_image_features))\n",
    "test_features = pickle.load(open(\"../dataset/image/test_features.p\",\"rb\"))\n",
    "print(len(test_features))\n",
    "master_features = all_image_features.copy()\n",
    "master_features.update(test_features)\n",
    "print(len(master_features))"
   ]
  },
  {
   "cell_type": "code",
   "execution_count": null,
   "metadata": {
    "collapsed": true
   },
   "outputs": [],
   "source": [
    "pickle.dump(master_features, open( \"../dataset/image/master_features.p\", \"wb\" ) )"
   ]
  },
  {
   "cell_type": "code",
   "execution_count": null,
   "metadata": {
    "collapsed": true
   },
   "outputs": [],
   "source": []
  },
  {
   "cell_type": "code",
   "execution_count": null,
   "metadata": {
    "collapsed": true
   },
   "outputs": [],
   "source": [
    "list_of_image_ids =list()\n",
    "for name in os.listdir(\"../../FoodImages\"):\n",
    "    name = os.path.splitext(name)[0]\n",
    "    #print(name)\n",
    "    list_of_image_ids.append(name)\n",
    "\n",
    "print(len(list_of_image_ids))"
   ]
  },
  {
   "cell_type": "code",
   "execution_count": null,
   "metadata": {
    "collapsed": true
   },
   "outputs": [],
   "source": [
    "recs = pickle.load(open(\"../recipe_sharath.p\",\"rb\"))\n",
    "print(len(recs))\n",
    "\n",
    "initial_recipe = pickle.load(open(\"data_processing/all_recipes.p\",\"rb\"))\n",
    "print(len(initial_recipe))\n",
    "\n",
    "hunted_recipe = pickle.load(open(\"hunted_recipes2.p\",\"rb\"))\n",
    "print(len(hunted_recipe))\n",
    "\n",
    "z = initial_recipe.copy()\n",
    "merged_recipe = z.update(recs)\n",
    "   \n",
    "print(len(z))\n",
    "\n",
    "z.update(hunted_recipe)\n",
    "print(len(z))"
   ]
  },
  {
   "cell_type": "code",
   "execution_count": null,
   "metadata": {
    "collapsed": true
   },
   "outputs": [],
   "source": [
    "imageset = set(list_of_image_ids)\n",
    "recipeset = set(z)\n",
    "\n",
    "common_ids = imageset.intersection(recipeset)\n",
    "print(len(common_ids))"
   ]
  },
  {
   "cell_type": "code",
   "execution_count": null,
   "metadata": {
    "collapsed": true
   },
   "outputs": [],
   "source": [
    "download_recipes_for_these_ids = list()\n",
    "for id in list_of_image_ids:\n",
    "    if id not in common_ids:\n",
    "        download_recipes_for_these_ids.append(id)\n",
    "        \n",
    "print(len(download_recipes_for_these_ids))"
   ]
  },
  {
   "cell_type": "code",
   "execution_count": null,
   "metadata": {
    "collapsed": true
   },
   "outputs": [],
   "source": [
    "pickle.dump(download_recipes_for_these_ids, open( \"download_recipes_for_these_ids.p\", \"wb\" ) )\n",
    "print(download_recipes_for_these_ids)\n",
    "\n",
    "real_image_ids =list()\n",
    "print(len(recs.items()))\n",
    "for image_id in list_of_image_ids:\n",
    "    if image_id in recs.keys():\n",
    "        real_image_ids.append(image_id)\n",
    "    #else:\n",
    "        #print(\"Missing\")\n",
    "        #print(image_id)\n",
    "\n",
    "print(\"Total Real Images\")\n",
    "print(len(real_image_ids))  \n",
    "\n",
    "\n",
    "real_recipes = dict()\n",
    "count = 0\n",
    "for recipe in recs.items():\n",
    "    if recipe[0] in list_of_image_ids:\n",
    "        real_recipes[recipe[0]] = recipe[1]\n",
    "    else:\n",
    "        #print(recipe[1])\n",
    "        count = count + 1\n",
    "print(count)\n",
    "print(\"Total Real Recipe\")\n",
    "print(len(real_recipes.items()))  "
   ]
  },
  {
   "cell_type": "code",
   "execution_count": null,
   "metadata": {
    "collapsed": true
   },
   "outputs": [],
   "source": [
    "pickle.dump( features, open( \"../web_data/data/sharath/features.p\", \"wb\" ) )"
   ]
  }
 ],
 "metadata": {
  "kernelspec": {
   "display_name": "Python 2",
   "language": "python",
   "name": "python2"
  },
  "language_info": {
   "codemirror_mode": {
    "name": "ipython",
    "version": 2
   },
   "file_extension": ".py",
   "mimetype": "text/x-python",
   "name": "python",
   "nbconvert_exporter": "python",
   "pygments_lexer": "ipython2",
   "version": "2.7.6"
  }
 },
 "nbformat": 4,
 "nbformat_minor": 0
}
